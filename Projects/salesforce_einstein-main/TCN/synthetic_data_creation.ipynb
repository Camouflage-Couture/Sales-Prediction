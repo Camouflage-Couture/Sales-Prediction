{
  "nbformat": 4,
  "nbformat_minor": 0,
  "metadata": {
    "colab": {
      "provenance": []
    },
    "kernelspec": {
      "name": "python3",
      "display_name": "Python 3"
    },
    "language_info": {
      "name": "python"
    }
  },
  "cells": [
    {
      "cell_type": "markdown",
      "source": [
        "**Dataset Overview**\n",
        "\n",
        "The dataset represents daily sales data of a product for a hypothetical company from January 1, 2021, to December 31, 2023. Each row corresponds to a single day's data, including sales figures and several features that could influence sales. The dataset is designed to simulate real-world scenarios where various factors affect daily sales.\n",
        "\n",
        "**Features in the Dataset**\n",
        "\n",
        "**Date**: The date for each observation.\n",
        "\n",
        "**Sales**: The number of sales for the given day, generated using a Poisson distribution with some added noise to simulate daily sales variability.\n",
        "\n",
        "**Promotions**: A binary feature indicating whether there was a promotion on that day (1 for promotion, 0 otherwise). This is simulated using a binomial distribution with a probability of 0.2.\n",
        "\n",
        "**Holidays**: A binary feature indicating whether the day was a holiday (1 for holiday, 0 otherwise). This is simulated using a binomial distribution with a probability of 0.05.\n",
        "\n",
        "**Economic Indicators**: A continuous feature representing some economic indicator value, generated using a normal distribution with a mean of 100 and a standard deviation of 10.\n",
        "\n",
        "Here the **Consumer Confidence Index** is used as an Economic Indicator. CCI is a measure of how optimistic or pessimistic consumers are about the economy's current and future state. It's based on surveys that ask consumers about their perceptions of current economic conditions and their expectations for the future.\n",
        "\n",
        "**High CCI Value: (above 110)**\n",
        "\n",
        "Indication: Consumers feel positive about the economy and their financial situation.\n",
        "Impact on Sales: High confidence usually leads to increased consumer spending as people are more likely to make purchases, take out loans, and invest in high-value items.\n",
        "\n",
        "**Low CCI Value (below 90)**\n",
        "\n",
        "Indication: Consumers are worried about the economy and their financial future.\n",
        "Impact on Sales: Low confidence often results in decreased consumer spending as people tend to save more and avoid big purchases."
      ],
      "metadata": {
        "id": "9nVVzi0Dbxdh"
      }
    },
    {
      "cell_type": "code",
      "execution_count": null,
      "metadata": {
        "id": "Vj8e8F1ba0PK"
      },
      "outputs": [],
      "source": [
        "import numpy as np\n",
        "import pandas as pd\n",
        "import random"
      ]
    },
    {
      "cell_type": "code",
      "source": [
        "# Set random seed for reproducibility\n",
        "np.random.seed(42)\n",
        "\n",
        "# Generate dates\n",
        "date_range = pd.date_range(start='2021-01-01', end='2023-12-31', freq='D')\n",
        "num_days = len(date_range)"
      ],
      "metadata": {
        "id": "7JXGXZCnbJnR"
      },
      "execution_count": null,
      "outputs": []
    },
    {
      "cell_type": "code",
      "source": [
        "# Generate synthetic sales data (in units) with added noise\n",
        "sales = np.random.poisson(lam=200, size=num_days) + np.random.normal(scale=20, size=num_days)\n",
        "sales = np.round(sales).astype(int)  # Ensure sales are integers\n",
        "\n",
        "# Ensure no negative sales values\n",
        "sales[sales < 0] = 0\n",
        "\n",
        "# Generate synthetic promotion data (0 or 1)\n",
        "promotions = np.random.binomial(1, p=0.2, size=num_days)\n",
        "\n",
        "# Generate synthetic holiday data (0 or 1)\n",
        "holidays = np.random.binomial(1, p=0.05, size=num_days)\n",
        "\n",
        "# Generate synthetic economic indicator data\n",
        "economic_indicators = np.round(np.random.normal(loc=100, scale=10, size=num_days), 3)\n",
        "\n",
        "# Create DataFrame\n",
        "data = pd.DataFrame({\n",
        "    'date': date_range,\n",
        "    'sales': sales,\n",
        "    'promotions': promotions,\n",
        "    'holidays': holidays,\n",
        "    'economic_indicators': economic_indicators\n",
        "})\n",
        "\n",
        "# Save to CSV\n",
        "data.to_csv('synthetic_sales_data.csv', index=False)\n",
        "\n",
        "# Display first few rows\n",
        "print(data.head())"
      ],
      "metadata": {
        "colab": {
          "base_uri": "https://localhost:8080/"
        },
        "id": "AW3MxfWabRfE",
        "outputId": "f265a03d-f397-4b08-b392-ea5cea75f46f"
      },
      "execution_count": null,
      "outputs": [
        {
          "output_type": "stream",
          "name": "stdout",
          "text": [
            "        date  sales  promotions  holidays  economic_indicators\n",
            "0 2021-01-01    246           1         0               95.056\n",
            "1 2021-01-02    187           1         0               96.946\n",
            "2 2021-01-03    193           0         0               87.965\n",
            "3 2021-01-04    190           0         0              107.775\n",
            "4 2021-01-05    155           0         0               79.497\n"
          ]
        }
      ]
    },
    {
      "cell_type": "code",
      "source": [],
      "metadata": {
        "id": "AZLCUGp9bZOD"
      },
      "execution_count": null,
      "outputs": []
    }
  ]
}